{
 "cells": [
  {
   "cell_type": "code",
   "execution_count": 10,
   "id": "fbeab402",
   "metadata": {},
   "outputs": [],
   "source": [
    "#importing libraries the necessary libraries\n",
    "\n",
    "import numpy as np\n",
    "import pandas as pd\n",
    "import matplotlib.pyplot as plt\n",
    "import seaborn as sns\n",
    "import warnings\n",
    "warnings.filterwarnings(\"ignore\")"
   ]
  },
  {
   "cell_type": "code",
   "execution_count": 11,
   "id": "babf21e2",
   "metadata": {},
   "outputs": [
    {
     "name": "stdout",
     "output_type": "stream",
     "text": [
      "   instant      dteday  season  yr  mnth  holiday  weekday  workingday  \\\n",
      "0        1  01-01-2018       1   0     1        0        6           0   \n",
      "1        2  02-01-2018       1   0     1        0        0           0   \n",
      "2        3  03-01-2018       1   0     1        0        1           1   \n",
      "3        4  04-01-2018       1   0     1        0        2           1   \n",
      "4        5  05-01-2018       1   0     1        0        3           1   \n",
      "\n",
      "   weathersit       temp     atemp      hum  windspeed  casual  registered  \\\n",
      "0           2  14.110847  18.18125  80.5833  10.749882     331         654   \n",
      "1           2  14.902598  17.68695  69.6087  16.652113     131         670   \n",
      "2           1   8.050924   9.47025  43.7273  16.636703     120        1229   \n",
      "3           1   8.200000  10.60610  59.0435  10.739832     108        1454   \n",
      "4           1   9.305237  11.46350  43.6957  12.522300      82        1518   \n",
      "\n",
      "    cnt  \n",
      "0   985  \n",
      "1   801  \n",
      "2  1349  \n",
      "3  1562  \n",
      "4  1600  \n"
     ]
    }
   ],
   "source": [
    "#reading the dataset and displaying the first five rows\n",
    "\n",
    "bk = pd.read_csv(\"day.csv\")\n",
    "\n",
    "print(bk.head())"
   ]
  },
  {
   "cell_type": "code",
   "execution_count": 12,
   "id": "5e52b4ca",
   "metadata": {},
   "outputs": [
    {
     "data": {
      "text/plain": [
       "(730, 16)"
      ]
     },
     "execution_count": 12,
     "metadata": {},
     "output_type": "execute_result"
    }
   ],
   "source": [
    "#checking the count of rows and columns of the dataset\n",
    "bk.shape"
   ]
  },
  {
   "cell_type": "code",
   "execution_count": 13,
   "id": "463249c1",
   "metadata": {},
   "outputs": [
    {
     "data": {
      "text/html": [
       "<div>\n",
       "<style scoped>\n",
       "    .dataframe tbody tr th:only-of-type {\n",
       "        vertical-align: middle;\n",
       "    }\n",
       "\n",
       "    .dataframe tbody tr th {\n",
       "        vertical-align: top;\n",
       "    }\n",
       "\n",
       "    .dataframe thead th {\n",
       "        text-align: right;\n",
       "    }\n",
       "</style>\n",
       "<table border=\"1\" class=\"dataframe\">\n",
       "  <thead>\n",
       "    <tr style=\"text-align: right;\">\n",
       "      <th></th>\n",
       "      <th>instant</th>\n",
       "      <th>season</th>\n",
       "      <th>yr</th>\n",
       "      <th>mnth</th>\n",
       "      <th>holiday</th>\n",
       "      <th>weekday</th>\n",
       "      <th>workingday</th>\n",
       "      <th>weathersit</th>\n",
       "      <th>temp</th>\n",
       "      <th>atemp</th>\n",
       "      <th>hum</th>\n",
       "      <th>windspeed</th>\n",
       "      <th>casual</th>\n",
       "      <th>registered</th>\n",
       "      <th>cnt</th>\n",
       "    </tr>\n",
       "  </thead>\n",
       "  <tbody>\n",
       "    <tr>\n",
       "      <th>count</th>\n",
       "      <td>730.000000</td>\n",
       "      <td>730.000000</td>\n",
       "      <td>730.000000</td>\n",
       "      <td>730.000000</td>\n",
       "      <td>730.000000</td>\n",
       "      <td>730.000000</td>\n",
       "      <td>730.000000</td>\n",
       "      <td>730.000000</td>\n",
       "      <td>730.000000</td>\n",
       "      <td>730.000000</td>\n",
       "      <td>730.000000</td>\n",
       "      <td>730.000000</td>\n",
       "      <td>730.000000</td>\n",
       "      <td>730.000000</td>\n",
       "      <td>730.000000</td>\n",
       "    </tr>\n",
       "    <tr>\n",
       "      <th>mean</th>\n",
       "      <td>365.500000</td>\n",
       "      <td>2.498630</td>\n",
       "      <td>0.500000</td>\n",
       "      <td>6.526027</td>\n",
       "      <td>0.028767</td>\n",
       "      <td>2.997260</td>\n",
       "      <td>0.683562</td>\n",
       "      <td>1.394521</td>\n",
       "      <td>20.319259</td>\n",
       "      <td>23.726322</td>\n",
       "      <td>62.765175</td>\n",
       "      <td>12.763620</td>\n",
       "      <td>849.249315</td>\n",
       "      <td>3658.757534</td>\n",
       "      <td>4508.006849</td>\n",
       "    </tr>\n",
       "    <tr>\n",
       "      <th>std</th>\n",
       "      <td>210.877136</td>\n",
       "      <td>1.110184</td>\n",
       "      <td>0.500343</td>\n",
       "      <td>3.450215</td>\n",
       "      <td>0.167266</td>\n",
       "      <td>2.006161</td>\n",
       "      <td>0.465405</td>\n",
       "      <td>0.544807</td>\n",
       "      <td>7.506729</td>\n",
       "      <td>8.150308</td>\n",
       "      <td>14.237589</td>\n",
       "      <td>5.195841</td>\n",
       "      <td>686.479875</td>\n",
       "      <td>1559.758728</td>\n",
       "      <td>1936.011647</td>\n",
       "    </tr>\n",
       "    <tr>\n",
       "      <th>min</th>\n",
       "      <td>1.000000</td>\n",
       "      <td>1.000000</td>\n",
       "      <td>0.000000</td>\n",
       "      <td>1.000000</td>\n",
       "      <td>0.000000</td>\n",
       "      <td>0.000000</td>\n",
       "      <td>0.000000</td>\n",
       "      <td>1.000000</td>\n",
       "      <td>2.424346</td>\n",
       "      <td>3.953480</td>\n",
       "      <td>0.000000</td>\n",
       "      <td>1.500244</td>\n",
       "      <td>2.000000</td>\n",
       "      <td>20.000000</td>\n",
       "      <td>22.000000</td>\n",
       "    </tr>\n",
       "    <tr>\n",
       "      <th>25%</th>\n",
       "      <td>183.250000</td>\n",
       "      <td>2.000000</td>\n",
       "      <td>0.000000</td>\n",
       "      <td>4.000000</td>\n",
       "      <td>0.000000</td>\n",
       "      <td>1.000000</td>\n",
       "      <td>0.000000</td>\n",
       "      <td>1.000000</td>\n",
       "      <td>13.811885</td>\n",
       "      <td>16.889713</td>\n",
       "      <td>52.000000</td>\n",
       "      <td>9.041650</td>\n",
       "      <td>316.250000</td>\n",
       "      <td>2502.250000</td>\n",
       "      <td>3169.750000</td>\n",
       "    </tr>\n",
       "    <tr>\n",
       "      <th>50%</th>\n",
       "      <td>365.500000</td>\n",
       "      <td>3.000000</td>\n",
       "      <td>0.500000</td>\n",
       "      <td>7.000000</td>\n",
       "      <td>0.000000</td>\n",
       "      <td>3.000000</td>\n",
       "      <td>1.000000</td>\n",
       "      <td>1.000000</td>\n",
       "      <td>20.465826</td>\n",
       "      <td>24.368225</td>\n",
       "      <td>62.625000</td>\n",
       "      <td>12.125325</td>\n",
       "      <td>717.000000</td>\n",
       "      <td>3664.500000</td>\n",
       "      <td>4548.500000</td>\n",
       "    </tr>\n",
       "    <tr>\n",
       "      <th>75%</th>\n",
       "      <td>547.750000</td>\n",
       "      <td>3.000000</td>\n",
       "      <td>1.000000</td>\n",
       "      <td>10.000000</td>\n",
       "      <td>0.000000</td>\n",
       "      <td>5.000000</td>\n",
       "      <td>1.000000</td>\n",
       "      <td>2.000000</td>\n",
       "      <td>26.880615</td>\n",
       "      <td>30.445775</td>\n",
       "      <td>72.989575</td>\n",
       "      <td>15.625589</td>\n",
       "      <td>1096.500000</td>\n",
       "      <td>4783.250000</td>\n",
       "      <td>5966.000000</td>\n",
       "    </tr>\n",
       "    <tr>\n",
       "      <th>max</th>\n",
       "      <td>730.000000</td>\n",
       "      <td>4.000000</td>\n",
       "      <td>1.000000</td>\n",
       "      <td>12.000000</td>\n",
       "      <td>1.000000</td>\n",
       "      <td>6.000000</td>\n",
       "      <td>1.000000</td>\n",
       "      <td>3.000000</td>\n",
       "      <td>35.328347</td>\n",
       "      <td>42.044800</td>\n",
       "      <td>97.250000</td>\n",
       "      <td>34.000021</td>\n",
       "      <td>3410.000000</td>\n",
       "      <td>6946.000000</td>\n",
       "      <td>8714.000000</td>\n",
       "    </tr>\n",
       "  </tbody>\n",
       "</table>\n",
       "</div>"
      ],
      "text/plain": [
       "          instant      season          yr        mnth     holiday     weekday  \\\n",
       "count  730.000000  730.000000  730.000000  730.000000  730.000000  730.000000   \n",
       "mean   365.500000    2.498630    0.500000    6.526027    0.028767    2.997260   \n",
       "std    210.877136    1.110184    0.500343    3.450215    0.167266    2.006161   \n",
       "min      1.000000    1.000000    0.000000    1.000000    0.000000    0.000000   \n",
       "25%    183.250000    2.000000    0.000000    4.000000    0.000000    1.000000   \n",
       "50%    365.500000    3.000000    0.500000    7.000000    0.000000    3.000000   \n",
       "75%    547.750000    3.000000    1.000000   10.000000    0.000000    5.000000   \n",
       "max    730.000000    4.000000    1.000000   12.000000    1.000000    6.000000   \n",
       "\n",
       "       workingday  weathersit        temp       atemp         hum   windspeed  \\\n",
       "count  730.000000  730.000000  730.000000  730.000000  730.000000  730.000000   \n",
       "mean     0.683562    1.394521   20.319259   23.726322   62.765175   12.763620   \n",
       "std      0.465405    0.544807    7.506729    8.150308   14.237589    5.195841   \n",
       "min      0.000000    1.000000    2.424346    3.953480    0.000000    1.500244   \n",
       "25%      0.000000    1.000000   13.811885   16.889713   52.000000    9.041650   \n",
       "50%      1.000000    1.000000   20.465826   24.368225   62.625000   12.125325   \n",
       "75%      1.000000    2.000000   26.880615   30.445775   72.989575   15.625589   \n",
       "max      1.000000    3.000000   35.328347   42.044800   97.250000   34.000021   \n",
       "\n",
       "            casual   registered          cnt  \n",
       "count   730.000000   730.000000   730.000000  \n",
       "mean    849.249315  3658.757534  4508.006849  \n",
       "std     686.479875  1559.758728  1936.011647  \n",
       "min       2.000000    20.000000    22.000000  \n",
       "25%     316.250000  2502.250000  3169.750000  \n",
       "50%     717.000000  3664.500000  4548.500000  \n",
       "75%    1096.500000  4783.250000  5966.000000  \n",
       "max    3410.000000  6946.000000  8714.000000  "
      ]
     },
     "execution_count": 13,
     "metadata": {},
     "output_type": "execute_result"
    }
   ],
   "source": [
    "#Description of the dataset\n",
    "bk.describe()"
   ]
  },
  {
   "cell_type": "code",
   "execution_count": 14,
   "id": "2b1e65e8",
   "metadata": {},
   "outputs": [
    {
     "data": {
      "text/plain": [
       "instant       0\n",
       "dteday        0\n",
       "season        0\n",
       "yr            0\n",
       "mnth          0\n",
       "holiday       0\n",
       "weekday       0\n",
       "workingday    0\n",
       "weathersit    0\n",
       "temp          0\n",
       "atemp         0\n",
       "hum           0\n",
       "windspeed     0\n",
       "casual        0\n",
       "registered    0\n",
       "cnt           0\n",
       "dtype: int64"
      ]
     },
     "execution_count": 14,
     "metadata": {},
     "output_type": "execute_result"
    }
   ],
   "source": [
    "# checking for null values in the columns  \n",
    "bk.isnull().sum()"
   ]
  },
  {
   "cell_type": "markdown",
   "id": "da7f58fa",
   "metadata": {},
   "source": [
    "###### There are no missing/null values in the dataset"
   ]
  },
  {
   "cell_type": "code",
   "execution_count": 15,
   "id": "f3652f1f",
   "metadata": {},
   "outputs": [
    {
     "name": "stdout",
     "output_type": "stream",
     "text": [
      "Printing after instant row removed\n",
      "\n",
      "       dteday  season  yr  mnth  holiday  weekday  workingday  weathersit  \\\n",
      "0  01-01-2018       1   0     1        0        6           0           2   \n",
      "1  02-01-2018       1   0     1        0        0           0           2   \n",
      "2  03-01-2018       1   0     1        0        1           1           1   \n",
      "3  04-01-2018       1   0     1        0        2           1           1   \n",
      "4  05-01-2018       1   0     1        0        3           1           1   \n",
      "\n",
      "        temp     atemp      hum  windspeed  casual  registered   cnt  \n",
      "0  14.110847  18.18125  80.5833  10.749882     331         654   985  \n",
      "1  14.902598  17.68695  69.6087  16.652113     131         670   801  \n",
      "2   8.050924   9.47025  43.7273  16.636703     120        1229  1349  \n",
      "3   8.200000  10.60610  59.0435  10.739832     108        1454  1562  \n",
      "4   9.305237  11.46350  43.6957  12.522300      82        1518  1600  \n"
     ]
    }
   ],
   "source": [
    "#Removing the unwanted columns from the dataset\n",
    "\n",
    "#Dropping the instant column which contains the index values\n",
    "bk.drop(['instant'],axis=1,inplace=True)\n",
    "\n",
    "print(\"Printing after instant row removed\\n\")\n",
    "print(bk.head())"
   ]
  },
  {
   "cell_type": "code",
   "execution_count": 16,
   "id": "9cd7693c",
   "metadata": {},
   "outputs": [
    {
     "name": "stdout",
     "output_type": "stream",
     "text": [
      "Dataset after dropping dteday column\n",
      "\n",
      "   season  yr  mnth  holiday  weekday  workingday  weathersit       temp  \\\n",
      "0       1   0     1        0        6           0           2  14.110847   \n",
      "1       1   0     1        0        0           0           2  14.902598   \n",
      "2       1   0     1        0        1           1           1   8.050924   \n",
      "3       1   0     1        0        2           1           1   8.200000   \n",
      "4       1   0     1        0        3           1           1   9.305237   \n",
      "\n",
      "      atemp      hum  windspeed  casual  registered   cnt  \n",
      "0  18.18125  80.5833  10.749882     331         654   985  \n",
      "1  17.68695  69.6087  16.652113     131         670   801  \n",
      "2   9.47025  43.7273  16.636703     120        1229  1349  \n",
      "3  10.60610  59.0435  10.739832     108        1454  1562  \n",
      "4  11.46350  43.6957  12.522300      82        1518  1600  \n"
     ]
    }
   ],
   "source": [
    "#dteday contains date which is year 2018 and 2019 and dropping that column\n",
    "bk.drop(['dteday'],axis=1,inplace=True)\n",
    "print(\"Dataset after dropping dteday column\\n\")\n",
    "print(bk.head())"
   ]
  },
  {
   "cell_type": "code",
   "execution_count": 17,
   "id": "c3922c1f",
   "metadata": {},
   "outputs": [
    {
     "name": "stdout",
     "output_type": "stream",
     "text": [
      "<class 'pandas.core.frame.DataFrame'>\n",
      "RangeIndex: 730 entries, 0 to 729\n",
      "Data columns (total 14 columns):\n",
      " #   Column      Non-Null Count  Dtype  \n",
      "---  ------      --------------  -----  \n",
      " 0   season      730 non-null    int64  \n",
      " 1   yr          730 non-null    int64  \n",
      " 2   mnth        730 non-null    int64  \n",
      " 3   holiday     730 non-null    int64  \n",
      " 4   weekday     730 non-null    int64  \n",
      " 5   workingday  730 non-null    int64  \n",
      " 6   weathersit  730 non-null    int64  \n",
      " 7   temp        730 non-null    float64\n",
      " 8   atemp       730 non-null    float64\n",
      " 9   hum         730 non-null    float64\n",
      " 10  windspeed   730 non-null    float64\n",
      " 11  casual      730 non-null    int64  \n",
      " 12  registered  730 non-null    int64  \n",
      " 13  cnt         730 non-null    int64  \n",
      "dtypes: float64(4), int64(10)\n",
      "memory usage: 80.0 KB\n"
     ]
    }
   ],
   "source": [
    "# analysing the data structure of the bike dataset\n",
    "bk.info()"
   ]
  },
  {
   "cell_type": "markdown",
   "id": "5df8d2fe",
   "metadata": {},
   "source": [
    "# EDA"
   ]
  },
  {
   "cell_type": "code",
   "execution_count": 18,
   "id": "8612c072",
   "metadata": {},
   "outputs": [
    {
     "ename": "NameError",
     "evalue": "name 'ln' is not defined",
     "output_type": "error",
     "traceback": [
      "\u001b[1;31m---------------------------------------------------------------------------\u001b[0m",
      "\u001b[1;31mNameError\u001b[0m                                 Traceback (most recent call last)",
      "\u001b[1;32m~\\AppData\\Local\\Temp/ipykernel_6912/1659108675.py\u001b[0m in \u001b[0;36m<module>\u001b[1;34m\u001b[0m\n\u001b[0;32m      1\u001b[0m \u001b[1;31m#Displaying using the pairplot of the random variables to analyse the correlation.\u001b[0m\u001b[1;33m\u001b[0m\u001b[1;33m\u001b[0m\u001b[0m\n\u001b[0;32m      2\u001b[0m \u001b[1;33m\u001b[0m\u001b[0m\n\u001b[1;32m----> 3\u001b[1;33m \u001b[0msns\u001b[0m\u001b[1;33m.\u001b[0m\u001b[0mpairplot\u001b[0m\u001b[1;33m(\u001b[0m\u001b[0mln\u001b[0m\u001b[1;33m,\u001b[0m \u001b[0mvars\u001b[0m\u001b[1;33m=\u001b[0m\u001b[1;33m[\u001b[0m\u001b[1;34m\"temp\"\u001b[0m\u001b[1;33m,\u001b[0m\u001b[1;34m\"atemp\"\u001b[0m\u001b[1;33m,\u001b[0m\u001b[1;34m\"windspeed\"\u001b[0m\u001b[1;33m,\u001b[0m\u001b[1;34m\"hum\"\u001b[0m\u001b[1;33m,\u001b[0m\u001b[1;34m\"casual\"\u001b[0m\u001b[1;33m,\u001b[0m\u001b[1;34m\"registered\"\u001b[0m\u001b[1;33m,\u001b[0m\u001b[1;34m\"cnt\"\u001b[0m\u001b[1;33m]\u001b[0m\u001b[1;33m)\u001b[0m\u001b[1;33m\u001b[0m\u001b[1;33m\u001b[0m\u001b[0m\n\u001b[0m\u001b[0;32m      4\u001b[0m \u001b[0mplt\u001b[0m\u001b[1;33m.\u001b[0m\u001b[0mshow\u001b[0m\u001b[1;33m(\u001b[0m\u001b[1;33m)\u001b[0m\u001b[1;33m\u001b[0m\u001b[1;33m\u001b[0m\u001b[0m\n",
      "\u001b[1;31mNameError\u001b[0m: name 'ln' is not defined"
     ]
    }
   ],
   "source": [
    "#Displaying using the pairplot of the random variables to analyse the correlation.\n",
    "\n",
    "sns.pairplot(ln, vars=[\"temp\",\"atemp\",\"windspeed\",\"hum\",\"casual\",\"registered\",\"cnt\"])\n",
    "plt.show()"
   ]
  },
  {
   "cell_type": "markdown",
   "id": "5c6ad9c5",
   "metadata": {},
   "source": [
    "##### From the above plot casual,registered are positively correlated to cnt variable\n"
   ]
  },
  {
   "cell_type": "markdown",
   "id": "0a35b61d",
   "metadata": {},
   "source": [
    "##### temp variable is correlated with atemp"
   ]
  },
  {
   "cell_type": "markdown",
   "id": "d20c845c",
   "metadata": {},
   "source": [
    "## Univariate Analysis"
   ]
  },
  {
   "cell_type": "code",
   "execution_count": null,
   "id": "055eaa8a",
   "metadata": {},
   "outputs": [],
   "source": [
    "# Univariate analysis on year variable\n",
    "sns.barplot('yr','cnt',data=bk)\n",
    "plt.show()"
   ]
  },
  {
   "cell_type": "markdown",
   "id": "41d7a19a",
   "metadata": {},
   "source": [
    "In the above chart 2018 is represented as 0 and 2019 as 1.  From the graph, year 2019 sales is higher than 2018  "
   ]
  },
  {
   "cell_type": "code",
   "execution_count": null,
   "id": "47abdd1c",
   "metadata": {},
   "outputs": [],
   "source": [
    "#Relation between weather and cnt of bike rentals dataset\n",
    "sns.barplot('weathersit','cnt',palette=\"muted\",data=bk)\n",
    "plt.show()"
   ]
  },
  {
   "cell_type": "code",
   "execution_count": null,
   "id": "0fcd6625",
   "metadata": {},
   "outputs": [],
   "source": [
    "# In the above chart Clear Weathersit represented as 1, Mist+Cloudy as 2, Light Snow as 3.  \n",
    "# From this diagram Bike rentals are during Clear Weather"
   ]
  },
  {
   "cell_type": "code",
   "execution_count": null,
   "id": "6ddfdf5c",
   "metadata": {},
   "outputs": [],
   "source": [
    "#scatter plot for temperature to cnt\n",
    "sns.scatterplot(x='temp',y='cnt' ,data=bk)\n",
    "plt.show()"
   ]
  },
  {
   "cell_type": "code",
   "execution_count": null,
   "id": "7d2ec4e0",
   "metadata": {},
   "outputs": [],
   "source": [
    "# From the chart above, Bike rentals are high during high Temperature"
   ]
  },
  {
   "cell_type": "markdown",
   "id": "ea80c30e",
   "metadata": {},
   "source": [
    "## Multivariate analysis"
   ]
  },
  {
   "cell_type": "code",
   "execution_count": null,
   "id": "da529fcb",
   "metadata": {},
   "outputs": [],
   "source": [
    "# Analysing different float values with help of heat map\n",
    "plt.figure(figsize=(17,12))\n",
    "cont_var= [\"temp\",\"atemp\",\"windspeed\",\"hum\",\"casual\",\"registered\",\"cnt\"]\n",
    "corr = bk[cont_var].corr()\n",
    "sns.heatmap(corr, annot=True, center=0.5)"
   ]
  },
  {
   "cell_type": "markdown",
   "id": "f815415f",
   "metadata": {},
   "source": [
    "From the above Heatmap, temp, atemp, casual,registered variables are highly correlated to 'cnt' variable"
   ]
  },
  {
   "cell_type": "code",
   "execution_count": null,
   "id": "6854a2a8",
   "metadata": {},
   "outputs": [],
   "source": [
    "# Dropping casual, registered variables as they are not useful for the analysis\n",
    "bk.drop(['casual','registered'],axis=1,inplace=True)\n",
    "\n",
    "print(\"Displaying the bike rental dataset after dropping casual,registered \\n\")\n",
    "bk.head()"
   ]
  },
  {
   "cell_type": "code",
   "execution_count": null,
   "id": "da604709",
   "metadata": {},
   "outputs": [],
   "source": [
    "#Dropping atemp variable.\n",
    "bk.drop(['atemp'],axis=1,inplace=True)\n",
    "\n",
    "print(\"Displaying the bike rental dataset after dropping atemp \\n\")\n",
    "bk.head()"
   ]
  },
  {
   "cell_type": "markdown",
   "id": "18c193b4",
   "metadata": {},
   "source": [
    "### Creating dummy variables"
   ]
  },
  {
   "cell_type": "code",
   "execution_count": null,
   "id": "57b83501",
   "metadata": {},
   "outputs": [],
   "source": [
    "#Mapping variables season, month, weathersit, weekday\n",
    "\n",
    "bk['season']=bk.season.map({1: 'spring', 2: 'summer',3:'fall', 4:'winter' })\n",
    "bk['weathersit']=bk.weathersit.map({1: 'Clear',2:'Mist + Cloudy',3:'Light Snow',4:'Snow + Fog'})\n",
    "bk['weekday']=bk.weekday.map({0:'Sun',1:'Mon',2:'Tue',3:'Wed',4:'Thu',5:'Fri',6:'Sat'})\n",
    "\n",
    "bk.head()"
   ]
  },
  {
   "cell_type": "code",
   "execution_count": null,
   "id": "2134c8e9",
   "metadata": {},
   "outputs": [],
   "source": [
    "#creating dummies\n",
    "months=pd.get_dummies(bk.mnth,drop_first=True)\n",
    "weekdays=pd.get_dummies(bk.weekday,drop_first=True)\n",
    "weather_sit=pd.get_dummies(bk.weathersit,drop_first=True)\n",
    "seasons=pd.get_dummies(bk.season,drop_first=True)"
   ]
  },
  {
   "cell_type": "code",
   "execution_count": null,
   "id": "ebfa8b0b",
   "metadata": {},
   "outputs": [],
   "source": [
    "bk=pd.concat([months,weekdays,weather_sit,seasons,bk],axis=1)\n",
    "bk.head()"
   ]
  },
  {
   "cell_type": "code",
   "execution_count": null,
   "id": "713f8cd4",
   "metadata": {},
   "outputs": [],
   "source": [
    "bk.info()"
   ]
  },
  {
   "cell_type": "code",
   "execution_count": null,
   "id": "8478ed9c",
   "metadata": {},
   "outputs": [],
   "source": [
    "#Deleting the orginal columns season.weathersit,weekday,mnth\n",
    "bk.drop(['season'],axis=1,inplace=True)\n",
    "bk.drop(['weathersit'],axis=1,inplace=True)\n",
    "bk.drop(['weekday'],axis=1,inplace=True)\n",
    "bk.drop(['mnth'],axis=1,inplace=True)\n",
    "\n",
    "bk.head()"
   ]
  },
  {
   "cell_type": "code",
   "execution_count": null,
   "id": "501028c3",
   "metadata": {},
   "outputs": [],
   "source": [
    "from sklearn.model_selection import train_test_split\n",
    "\n",
    "# splitting the dataset into Train and Test with 70 and 30 percent of the dataset\n",
    "\n",
    "bk_train, bk_test = train_test_split(bk, train_size = 0.7, random_state = 100)"
   ]
  },
  {
   "cell_type": "code",
   "execution_count": null,
   "id": "f7b98b74",
   "metadata": {},
   "outputs": [],
   "source": [
    "print(bk_train.shape)\n",
    "print(bk_test.shape)"
   ]
  },
  {
   "cell_type": "code",
   "execution_count": null,
   "id": "276e7ede",
   "metadata": {},
   "outputs": [],
   "source": [
    "#Scaling the numerical data with MinMaxScaler\n",
    "from sklearn.preprocessing import MinMaxScaler\n",
    "scaler=MinMaxScaler()\n",
    "\n",
    "num_vars=['temp','hum','windspeed','cnt']\n",
    "bk_train[num_vars] = scaler.fit_transform(bk_train[num_vars])\n",
    "bk_train.head()"
   ]
  },
  {
   "cell_type": "code",
   "execution_count": null,
   "id": "c8d595de",
   "metadata": {},
   "outputs": [],
   "source": [
    "#assigning the train values for x and y\n",
    "y_train = bk_train.pop('cnt')\n",
    "x_train = bk_train"
   ]
  },
  {
   "cell_type": "code",
   "execution_count": null,
   "id": "1b9f0c63",
   "metadata": {},
   "outputs": [],
   "source": [
    "from sklearn.feature_selection import RFE\n",
    "from sklearn.linear_model import LinearRegression"
   ]
  },
  {
   "cell_type": "code",
   "execution_count": null,
   "id": "eb3a221d",
   "metadata": {},
   "outputs": [],
   "source": [
    "x_train.head()"
   ]
  },
  {
   "cell_type": "code",
   "execution_count": null,
   "id": "22753b78",
   "metadata": {},
   "outputs": [],
   "source": [
    "y_train.head()"
   ]
  },
  {
   "cell_type": "code",
   "execution_count": null,
   "id": "3fbc9858",
   "metadata": {},
   "outputs": [],
   "source": [
    "# Running RFE with the output number of the variable equal to 15\n",
    "lm = LinearRegression()\n",
    "lm.fit(x_train, y_train)\n",
    "\n",
    "rfe = RFE(lm, 15)\n",
    "rfe = rfe.fit(x_train, y_train)"
   ]
  },
  {
   "cell_type": "code",
   "execution_count": null,
   "id": "e49e7e72",
   "metadata": {},
   "outputs": [],
   "source": [
    "list(zip(x_train.columns,rfe.support_,rfe.ranking_))"
   ]
  },
  {
   "cell_type": "code",
   "execution_count": null,
   "id": "f52d0802",
   "metadata": {},
   "outputs": [],
   "source": [
    "col = x_train.columns[rfe.support_]\n",
    "col"
   ]
  },
  {
   "cell_type": "code",
   "execution_count": null,
   "id": "1a94f72b",
   "metadata": {},
   "outputs": [],
   "source": [
    "x_train.columns[~rfe.support_]"
   ]
  },
  {
   "cell_type": "markdown",
   "id": "0d806f50",
   "metadata": {},
   "source": [
    "## Model Building"
   ]
  },
  {
   "cell_type": "code",
   "execution_count": null,
   "id": "7dab03e2",
   "metadata": {},
   "outputs": [],
   "source": [
    "# Creating X_test dataframe with RFE selected variables\n",
    "x_train_rfe = x_train[col]\n",
    "# Adding a constant variable \n",
    "import statsmodels.api as sm  \n",
    "x_train_rfe1 = sm.add_constant(x_train_rfe)\n",
    "# Running the linear model \n",
    "lm = sm.OLS(y_train,x_train_rfe1).fit()"
   ]
  },
  {
   "cell_type": "code",
   "execution_count": null,
   "id": "df0ba56a",
   "metadata": {},
   "outputs": [],
   "source": [
    "print(lm.summary())"
   ]
  },
  {
   "cell_type": "code",
   "execution_count": null,
   "id": "f0c33210",
   "metadata": {},
   "outputs": [],
   "source": [
    "# Calculate the VIFs for the new model\n",
    "from statsmodels.stats.outliers_influence import variance_inflation_factor\n",
    "\n",
    "vif = pd.DataFrame()\n",
    "x = x_train_rfe\n",
    "vif['Features'] = x.columns\n",
    "vif['VIF'] = [variance_inflation_factor(x.values, i) for i in range(x.shape[1])]\n",
    "vif['VIF'] = round(vif['VIF'], 2)\n",
    "vif = vif.sort_values(by = \"VIF\", ascending = False)\n",
    "vif"
   ]
  },
  {
   "cell_type": "code",
   "execution_count": null,
   "id": "8c5fdfb3",
   "metadata": {
    "scrolled": true
   },
   "outputs": [],
   "source": [
    "#from the above VIF values, 'hum' column has the high VIF value and dropping it\n",
    "x_train_rfe=x_train_rfe.drop(['hum'],axis=1)"
   ]
  },
  {
   "cell_type": "code",
   "execution_count": null,
   "id": "a824f0f9",
   "metadata": {},
   "outputs": [],
   "source": [
    "# Running the model after dropping hum variable\n",
    "import statsmodels.api as sm  \n",
    "x_train_rfe1 = sm.add_constant(x_train_rfe)\n",
    "\n",
    "lm1 = sm.OLS(y_train,x_train_rfe1).fit()\n",
    "print(lm1.summary())"
   ]
  },
  {
   "cell_type": "code",
   "execution_count": null,
   "id": "c3bb664c",
   "metadata": {},
   "outputs": [],
   "source": [
    "from statsmodels.stats.outliers_influence import variance_inflation_factor\n",
    "\n",
    "vif = pd.DataFrame()\n",
    "x = x_train_rfe\n",
    "vif['Features'] = x.columns\n",
    "vif['VIF'] = [variance_inflation_factor(x.values, i) for i in range(x.shape[1])]\n",
    "vif['VIF'] = round(vif['VIF'], 2)\n",
    "vif = vif.sort_values(by = \"VIF\", ascending = False)\n",
    "vif"
   ]
  },
  {
   "cell_type": "code",
   "execution_count": null,
   "id": "16d41eca",
   "metadata": {},
   "outputs": [],
   "source": [
    "#After dropping the hum variable, temp has high VIF and dropping that column\n",
    "x_train_rfe=x_train_rfe.drop(['temp'],axis=1)"
   ]
  },
  {
   "cell_type": "code",
   "execution_count": null,
   "id": "a3b2dde9",
   "metadata": {},
   "outputs": [],
   "source": [
    "#windspeed has VIF which greater than 2, dropping that column too\n",
    "x_train_rfe=x_train_rfe.drop(['windspeed'],axis=1)\n",
    "x_train_rfe.columns"
   ]
  },
  {
   "cell_type": "code",
   "execution_count": null,
   "id": "e81ec72d",
   "metadata": {},
   "outputs": [],
   "source": [
    "#Running the model again after dropping the above two columns\n",
    "import statsmodels.api as sm  \n",
    "x_train_rfe2 = sm.add_constant(x_train_rfe)\n",
    "\n",
    "lm2 = sm.OLS(y_train,x_train_rfe2).fit()\n",
    "print(lm2.summary())"
   ]
  },
  {
   "cell_type": "code",
   "execution_count": null,
   "id": "9d82ed26",
   "metadata": {},
   "outputs": [],
   "source": [
    "#from the above summary,winter has high P value and dropping it\n",
    "x_train_rfe=x_train_rfe.drop(['winter'],axis=1)\n",
    "x_train_rfe.columns"
   ]
  },
  {
   "cell_type": "code",
   "execution_count": null,
   "id": "9ea22254",
   "metadata": {},
   "outputs": [],
   "source": [
    "#from the above summary, month 4 has high P value and dropping that too\n",
    "x_train_rfe=x_train_rfe.drop([4],axis=1)\n",
    "x_train_rfe.columns"
   ]
  },
  {
   "cell_type": "code",
   "execution_count": null,
   "id": "c928d607",
   "metadata": {},
   "outputs": [],
   "source": [
    "#Running the model again\n",
    "x_train_rfe3 = sm.add_constant(x_train_rfe)\n",
    "lm3 = sm.OLS(y_train,x_train_rfe3).fit()\n",
    "print(lm3.summary())"
   ]
  },
  {
   "cell_type": "code",
   "execution_count": null,
   "id": "5829ab60",
   "metadata": {},
   "outputs": [],
   "source": [
    "vif = pd.DataFrame()\n",
    "x = x_train_rfe\n",
    "vif['Features'] = x.columns\n",
    "vif['VIF'] = [variance_inflation_factor(x.values, i) for i in range(x.shape[1])]\n",
    "vif['VIF'] = round(vif['VIF'], 2)\n",
    "vif = vif.sort_values(by = \"VIF\", ascending = False)\n",
    "vif"
   ]
  },
  {
   "cell_type": "code",
   "execution_count": null,
   "id": "f2578522",
   "metadata": {},
   "outputs": [],
   "source": [
    "# Now the training data looks stabilized, concatenating workingday\n",
    "x_train_rfe['workingday']=x_train['workingday']\n",
    "\n",
    "#checking the linear model summary\n",
    "x_train_rfe4 = sm.add_constant(x_train_rfe)\n",
    "lm4 = sm.OLS(y_train,x_train_rfe4).fit()\n",
    "print(lm4.summary())"
   ]
  },
  {
   "cell_type": "code",
   "execution_count": null,
   "id": "66c337a1",
   "metadata": {},
   "outputs": [],
   "source": [
    "#workingday has high p value and dropping it.\n",
    "x_train_rfe=x_train_rfe.drop(['workingday'],axis=1)"
   ]
  },
  {
   "cell_type": "code",
   "execution_count": null,
   "id": "b9a7bf2a",
   "metadata": {},
   "outputs": [],
   "source": [
    "#Adding Monday to check the new model \n",
    "x_train_rfe['Mon']=x_train['Mon']\n",
    "\n",
    "#checking the linear model summary\n",
    "x_train_rfe5 = sm.add_constant(x_train_rfe)\n",
    "lm5 = sm.OLS(y_train,x_train_rfe5).fit()\n",
    "print(lm5.summary())"
   ]
  },
  {
   "cell_type": "code",
   "execution_count": null,
   "id": "f8f80aaf",
   "metadata": {},
   "outputs": [],
   "source": [
    "#Monday has high p value and dropping it.\n",
    "x_train_rfe=x_train_rfe.drop(['Mon'],axis=1)"
   ]
  },
  {
   "cell_type": "code",
   "execution_count": null,
   "id": "3b93bccd",
   "metadata": {},
   "outputs": [],
   "source": [
    "#Adding Sunday to check the new model \n",
    "x_train_rfe['Sun']=x_train['Sun']\n",
    "\n",
    "#checking the linear model summary\n",
    "x_train_rfe6 = sm.add_constant(x_train_rfe)\n",
    "lm6 = sm.OLS(y_train,x_train_rfe6).fit()\n",
    "print(lm6.summary())"
   ]
  },
  {
   "cell_type": "code",
   "execution_count": null,
   "id": "ad4b0df3",
   "metadata": {},
   "outputs": [],
   "source": [
    "#finding VIF for respective model\n",
    "vif = pd.DataFrame()\n",
    "x = x_train_rfe\n",
    "vif['Features'] = x.columns\n",
    "vif['VIF'] = [variance_inflation_factor(x.values, i) for i in range(x.shape[1])]\n",
    "vif['VIF'] = round(vif['VIF'], 2)\n",
    "vif = vif.sort_values(by = \"VIF\", ascending = False)\n",
    "vif"
   ]
  },
  {
   "cell_type": "markdown",
   "id": "e25a5e83",
   "metadata": {},
   "source": [
    "Sunday VIF value is good and keeping it with the model"
   ]
  },
  {
   "cell_type": "code",
   "execution_count": null,
   "id": "0cf9e003",
   "metadata": {},
   "outputs": [],
   "source": [
    "#Adding Tuesday to check the new model\n",
    "x_train_rfe['Tue']=x_train['Tue']\n",
    "\n",
    "#checking the linear model summary\n",
    "x_train_rfe7 = sm.add_constant(x_train_rfe)\n",
    "lm7 = sm.OLS(y_train,x_train_rfe7).fit()\n",
    "print(lm7.summary())"
   ]
  },
  {
   "cell_type": "code",
   "execution_count": null,
   "id": "9a4d43e6",
   "metadata": {},
   "outputs": [],
   "source": [
    "#Tuesday has high p value and dropping it.\n",
    "x_train_rfe=x_train_rfe.drop(['Tue'],axis=1)"
   ]
  },
  {
   "cell_type": "code",
   "execution_count": null,
   "id": "0f0a5348",
   "metadata": {},
   "outputs": [],
   "source": [
    "#Adding Wednesday to check the new model\n",
    "x_train_rfe['Wed']=x_train['Wed']\n",
    "\n",
    "#checking the linear model summary\n",
    "x_train_rfe8 = sm.add_constant(x_train_rfe)\n",
    "lm8 = sm.OLS(y_train,x_train_rfe8).fit()\n",
    "print(lm8.summary())"
   ]
  },
  {
   "cell_type": "code",
   "execution_count": null,
   "id": "6a7dcbf6",
   "metadata": {},
   "outputs": [],
   "source": [
    "# Wednesday has high p value and dropping it.\n",
    "x_train_rfe=x_train_rfe.drop(['Wed'],axis=1)"
   ]
  },
  {
   "cell_type": "code",
   "execution_count": null,
   "id": "47d275c3",
   "metadata": {},
   "outputs": [],
   "source": [
    "#Adding month 2 to check model capability\n",
    "x_train_rfe[2]=x_train[2]\n",
    "\n",
    "x_train_rfe9 = sm.add_constant(x_train_rfe)\n",
    "lm9 = sm.OLS(y_train,x_train_rfe9).fit()\n",
    "print(lm9.summary())"
   ]
  },
  {
   "cell_type": "code",
   "execution_count": null,
   "id": "43c7cbd0",
   "metadata": {},
   "outputs": [],
   "source": [
    "#month 2 has high p value and dropping it.\n",
    "x_train_rfe=x_train_rfe.drop([2],axis=1)"
   ]
  },
  {
   "cell_type": "code",
   "execution_count": null,
   "id": "6d46d15b",
   "metadata": {},
   "outputs": [],
   "source": [
    "#Adding month 7 to check the new model \n",
    "x_train_rfe[7]=x_train[7]\n",
    "\n",
    "x_train_rfe10 = sm.add_constant(x_train_rfe)\n",
    "lm10 = sm.OLS(y_train,x_train_rfe10).fit()\n",
    "print(lm10.summary())"
   ]
  },
  {
   "cell_type": "code",
   "execution_count": null,
   "id": "d6d921f6",
   "metadata": {},
   "outputs": [],
   "source": [
    "#VIF for the new model\n",
    "vif = pd.DataFrame()\n",
    "x = x_train_rfe\n",
    "vif['Features'] = x.columns\n",
    "vif['VIF'] = [variance_inflation_factor(x.values, i) for i in range(x.shape[1])]\n",
    "vif['VIF'] = round(vif['VIF'], 2)\n",
    "vif = vif.sort_values(by = \"VIF\", ascending = False)\n",
    "vif"
   ]
  },
  {
   "cell_type": "markdown",
   "id": "9cc722db",
   "metadata": {},
   "source": [
    "Month 7 is good and will continue with this new model"
   ]
  },
  {
   "cell_type": "code",
   "execution_count": null,
   "id": "4eae895e",
   "metadata": {},
   "outputs": [],
   "source": [
    "#Adding month 10 to check model capability\n",
    "x_train_rfe[10]=x_train[10]\n",
    "\n",
    "x_train_rfe11 = sm.add_constant(x_train_rfe)\n",
    "lm11 = sm.OLS(y_train,x_train_rfe11).fit()\n",
    "print(lm11.summary())"
   ]
  },
  {
   "cell_type": "code",
   "execution_count": null,
   "id": "3715ffa6",
   "metadata": {},
   "outputs": [],
   "source": [
    "#VIF for corresponding models\n",
    "vif = pd.DataFrame()\n",
    "x = x_train_rfe\n",
    "vif['Features'] = x.columns\n",
    "vif['VIF'] = [variance_inflation_factor(x.values, i) for i in range(x.shape[1])]\n",
    "vif['VIF'] = round(vif['VIF'], 2)\n",
    "vif = vif.sort_values(by = \"VIF\", ascending = False)\n",
    "vif"
   ]
  },
  {
   "cell_type": "markdown",
   "id": "c11bf69e",
   "metadata": {},
   "source": [
    "Month 10 is good and will continue with this new model"
   ]
  },
  {
   "cell_type": "code",
   "execution_count": null,
   "id": "d34669f2",
   "metadata": {},
   "outputs": [],
   "source": [
    "#Adding month 11 to check model capability\n",
    "x_train_rfe[11]=x_train[11]\n",
    "\n",
    "x_train_rfe12 = sm.add_constant(x_train_rfe)\n",
    "lm12 = sm.OLS(y_train,x_train_rfe12).fit()\n",
    "print(lm12.summary())"
   ]
  },
  {
   "cell_type": "code",
   "execution_count": null,
   "id": "3584da26",
   "metadata": {},
   "outputs": [],
   "source": [
    "# month 11 has high p value and dropping it.\n",
    "x_train_rfe=x_train_rfe.drop([11],axis=1)"
   ]
  },
  {
   "cell_type": "code",
   "execution_count": null,
   "id": "8bbd67dc",
   "metadata": {},
   "outputs": [],
   "source": [
    "#Adding month 12 to check model capability\n",
    "x_train_rfe[12]=x_train[12]\n",
    "\n",
    "x_train_rfe13 = sm.add_constant(x_train_rfe)\n",
    "lm13 = sm.OLS(y_train,x_train_rfe13).fit()\n",
    "print(lm13.summary())"
   ]
  },
  {
   "cell_type": "code",
   "execution_count": null,
   "id": "2f394b36",
   "metadata": {},
   "outputs": [],
   "source": [
    "# month 12 has high p value and dropping it.\n",
    "x_train_rfe=x_train_rfe.drop([12],axis=1)"
   ]
  },
  {
   "cell_type": "markdown",
   "id": "be96e586",
   "metadata": {},
   "source": [
    "We conclude the model building looks good with the lm11 results and it a good fit\n",
    "\n",
    "The new model 11 with p-value and VIF value are in acceptance range."
   ]
  },
  {
   "cell_type": "code",
   "execution_count": null,
   "id": "0272f6e2",
   "metadata": {},
   "outputs": [],
   "source": [
    "# predicting the model\n",
    "y_train_cnt = lm11.predict(x_train_rfe11)"
   ]
  },
  {
   "cell_type": "code",
   "execution_count": null,
   "id": "aeb08e55",
   "metadata": {},
   "outputs": [],
   "source": [
    "#importing the plot libraries\n",
    "import matplotlib.pyplot as plt\n",
    "import seaborn as sns\n",
    "%matplotlib inline"
   ]
  },
  {
   "cell_type": "code",
   "execution_count": null,
   "id": "18be7650",
   "metadata": {},
   "outputs": [],
   "source": [
    "# Plot the histogram of the error terms\n",
    "fig = plt.figure()\n",
    "sns.distplot((y_train - y_train_cnt), bins = 20)\n",
    "fig.suptitle('Error Terms', fontsize = 20)\n",
    "plt.xlabel('Errors', fontsize = 10)"
   ]
  },
  {
   "cell_type": "markdown",
   "id": "2adae830",
   "metadata": {},
   "source": [
    "Error terms are distributed normally. "
   ]
  },
  {
   "cell_type": "code",
   "execution_count": null,
   "id": "707c7e08",
   "metadata": {},
   "outputs": [],
   "source": [
    "#Scaling the Test data \n",
    "\n",
    "num_vars=['temp','hum','windspeed','cnt']\n",
    "bk_test[num_vars] = scaler.fit_transform(bk_test[num_vars])"
   ]
  },
  {
   "cell_type": "code",
   "execution_count": null,
   "id": "c2ba032a",
   "metadata": {},
   "outputs": [],
   "source": [
    "#assigning x and y sets\n",
    "\n",
    "y_test = bk_test.pop('cnt')\n",
    "x_test = bk_test"
   ]
  },
  {
   "cell_type": "code",
   "execution_count": null,
   "id": "445d51de",
   "metadata": {},
   "outputs": [],
   "source": [
    "#dropping const value\n",
    "x_train_new=x_train_rfe11.drop(['const'], axis=1)\n",
    "\n",
    "# x_test_new dataframe \n",
    "\n",
    "x_test_new = x_test[x_train_new.columns]\n",
    "\n",
    "#adding a constant variable \n",
    "x_test_new = sm.add_constant(x_test_new)"
   ]
  },
  {
   "cell_type": "code",
   "execution_count": null,
   "id": "fc728283",
   "metadata": {},
   "outputs": [],
   "source": [
    "# predictions on the chosen new model\n",
    "\n",
    "y_pred = lm11.predict(x_test_new)"
   ]
  },
  {
   "cell_type": "code",
   "execution_count": null,
   "id": "cddca96c",
   "metadata": {},
   "outputs": [],
   "source": [
    "#comparing the predicted data with our test data\n",
    "fig = plt.figure()\n",
    "plt.scatter(y_test,y_pred)\n",
    "fig.suptitle('y_test vs y_pred', fontsize=20)\n",
    "plt.xlabel('y_test', fontsize=18)\n",
    "plt.ylabel('y_pred', fontsize=16)"
   ]
  },
  {
   "cell_type": "code",
   "execution_count": null,
   "id": "2bedce02",
   "metadata": {},
   "outputs": [],
   "source": [
    "#Regression plot\n",
    "plt.figure(figsize=(15,12))\n",
    "sns.regplot(x=y_test, y=y_pred, ci=68, fit_reg=True,scatter_kws={\"color\": \"blue\"}, line_kws={\"color\": \"red\"})\n",
    "\n",
    "plt.title('y_test vs y_pred', fontsize=18)\n",
    "plt.xlabel('y_test', fontsize=16)\n",
    "plt.ylabel('y_pred', fontsize=14)\n",
    "plt.show()"
   ]
  },
  {
   "cell_type": "markdown",
   "id": "14a5ca7c",
   "metadata": {},
   "source": [
    "From the above plot, the predicted model for demand of bikes is in range"
   ]
  },
  {
   "cell_type": "code",
   "execution_count": null,
   "id": "67a94194",
   "metadata": {},
   "outputs": [],
   "source": [
    "from sklearn.metrics import mean_squared_error\n",
    "from sklearn.metrics import r2_score\n",
    "\n",
    "#Calculate the r square for test\n",
    "\n",
    "r_squared = r2_score(y_test, y_pred)\n",
    "r_squared"
   ]
  },
  {
   "cell_type": "markdown",
   "id": "fe65b9fe",
   "metadata": {},
   "source": [
    "Test r-square value is 0.804"
   ]
  },
  {
   "cell_type": "code",
   "execution_count": null,
   "id": "029df95e",
   "metadata": {},
   "outputs": [],
   "source": [
    "x_test.shape"
   ]
  },
  {
   "cell_type": "code",
   "execution_count": null,
   "id": "4846a65d",
   "metadata": {},
   "outputs": [],
   "source": [
    "# Assigning n for the number of rows in X\n",
    "\n",
    "n = x_test.shape[0]\n",
    "\n",
    "# Number of features (predictors, p) is the shape along axis 1\n",
    "p = x_test.shape[1]\n",
    "\n",
    "# The Adjusted R-squared using the formula\n",
    "\n",
    "adjusted_r2 = 1-(1-r_squared)*(n-1)/(n-p-1)\n",
    "adjusted_r2"
   ]
  },
  {
   "cell_type": "markdown",
   "id": "0b197014",
   "metadata": {},
   "source": [
    "Test r-square value is 0.775"
   ]
  },
  {
   "cell_type": "code",
   "execution_count": null,
   "id": "c46b6f08",
   "metadata": {},
   "outputs": [],
   "source": [
    "print(lm11.summary())"
   ]
  },
  {
   "cell_type": "markdown",
   "id": "26bd097b",
   "metadata": {},
   "source": [
    "### Conclusion : \n",
    "\n",
    "Our Test R-squared model is 79.7 and adjusted R-squared model is 79.1"
   ]
  },
  {
   "cell_type": "markdown",
   "id": "1cc7f2fe",
   "metadata": {},
   "source": [
    "Best equation fits with respect to above summary for cnt= 0.246 X yr -0.0836 X holiday - 0.198 X Spring - 0.321 X Light snow - 0.089 X Mist+Cloudy +0.063 X 3 + 0.123 X 5 +0.151 X 6 +0.153 X 8 + 0.193 X 9 -0.049 X Sun + 0.126 X 7 + 0.115 X 10"
   ]
  },
  {
   "cell_type": "markdown",
   "id": "b9d7eec2",
   "metadata": {},
   "source": [
    "The demand for bikes depends on the below variables:\n",
    "    - Year, Holiday, Spring, Mist+Cloudy, Light Snow,Months (3,5,6,7,8,9,10) and Sunday\n",
    "    \n",
    "    -Demands for the bike is increased during the months of March, May, June, July, August, September and October\n",
    "\n",
    "    -Demand decreases if it is a holiday, Spring, Light snow, Mist_cloudy and Sunday\n"
   ]
  },
  {
   "cell_type": "code",
   "execution_count": null,
   "id": "112c32cc",
   "metadata": {},
   "outputs": [],
   "source": []
  }
 ],
 "metadata": {
  "kernelspec": {
   "display_name": "Python 3 (ipykernel)",
   "language": "python",
   "name": "python3"
  },
  "language_info": {
   "codemirror_mode": {
    "name": "ipython",
    "version": 3
   },
   "file_extension": ".py",
   "mimetype": "text/x-python",
   "name": "python",
   "nbconvert_exporter": "python",
   "pygments_lexer": "ipython3",
   "version": "3.9.7"
  }
 },
 "nbformat": 4,
 "nbformat_minor": 5
}
